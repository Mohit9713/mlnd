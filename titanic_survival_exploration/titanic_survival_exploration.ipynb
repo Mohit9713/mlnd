{
 "cells": [
  {
   "cell_type": "markdown",
   "metadata": {},
   "source": [
    "# Machine Learning Engineer Nanodegree\n",
    "## Introduction and Foundations\n",
    "## Project: Titanic Survival Exploration\n",
    "\n",
    "In 1912, the ship RMS Titanic struck an iceberg on its maiden voyage and sank, resulting in the deaths of most of its passengers and crew. In this introductory project, we will explore a subset of the RMS Titanic passenger manifest to determine which features best predict whether someone survived or did not survive. To complete this project, you will need to implement several conditional predictions and answer the questions below. Your project submission will be evaluated based on the completion of the code and your responses to the questions.\n",
    "> **Tip:** Quoted sections like this will provide helpful instructions on how to navigate and use an iPython notebook. "
   ]
  },
  {
   "cell_type": "markdown",
   "metadata": {},
   "source": [
    "# Getting Started\n",
    "To begin working with the RMS Titanic passenger data, we'll first need to `import` the functionality we need, and load our data into a `pandas` DataFrame.  \n",
    "Run the code cell below to load our data and display the first few entries (passengers) for examination using the `.head()` function.\n",
    "> **Tip:** You can run a code cell by clicking on the cell and using the keyboard shortcut **Shift + Enter** or **Shift + Return**. Alternatively, a code cell can be executed using the **Play** button in the hotbar after selecting it. Markdown cells (text cells like this one) can be edited by double-clicking, and saved using these same shortcuts. [Markdown](http://daringfireball.net/projects/markdown/syntax) allows you to write easy-to-read plain text that can be converted to HTML."
   ]
  },
  {
   "cell_type": "code",
   "execution_count": 1,
   "metadata": {},
   "outputs": [
    {
     "data": {
      "text/html": [
       "<div>\n",
       "<style>\n",
       "    .dataframe thead tr:only-child th {\n",
       "        text-align: right;\n",
       "    }\n",
       "\n",
       "    .dataframe thead th {\n",
       "        text-align: left;\n",
       "    }\n",
       "\n",
       "    .dataframe tbody tr th {\n",
       "        vertical-align: top;\n",
       "    }\n",
       "</style>\n",
       "<table border=\"1\" class=\"dataframe\">\n",
       "  <thead>\n",
       "    <tr style=\"text-align: right;\">\n",
       "      <th></th>\n",
       "      <th>PassengerId</th>\n",
       "      <th>Survived</th>\n",
       "      <th>Pclass</th>\n",
       "      <th>Name</th>\n",
       "      <th>Sex</th>\n",
       "      <th>Age</th>\n",
       "      <th>SibSp</th>\n",
       "      <th>Parch</th>\n",
       "      <th>Ticket</th>\n",
       "      <th>Fare</th>\n",
       "      <th>Cabin</th>\n",
       "      <th>Embarked</th>\n",
       "    </tr>\n",
       "  </thead>\n",
       "  <tbody>\n",
       "    <tr>\n",
       "      <th>0</th>\n",
       "      <td>1</td>\n",
       "      <td>0</td>\n",
       "      <td>3</td>\n",
       "      <td>Braund, Mr. Owen Harris</td>\n",
       "      <td>male</td>\n",
       "      <td>22.0</td>\n",
       "      <td>1</td>\n",
       "      <td>0</td>\n",
       "      <td>A/5 21171</td>\n",
       "      <td>7.2500</td>\n",
       "      <td>NaN</td>\n",
       "      <td>S</td>\n",
       "    </tr>\n",
       "    <tr>\n",
       "      <th>1</th>\n",
       "      <td>2</td>\n",
       "      <td>1</td>\n",
       "      <td>1</td>\n",
       "      <td>Cumings, Mrs. John Bradley (Florence Briggs Th...</td>\n",
       "      <td>female</td>\n",
       "      <td>38.0</td>\n",
       "      <td>1</td>\n",
       "      <td>0</td>\n",
       "      <td>PC 17599</td>\n",
       "      <td>71.2833</td>\n",
       "      <td>C85</td>\n",
       "      <td>C</td>\n",
       "    </tr>\n",
       "    <tr>\n",
       "      <th>2</th>\n",
       "      <td>3</td>\n",
       "      <td>1</td>\n",
       "      <td>3</td>\n",
       "      <td>Heikkinen, Miss. Laina</td>\n",
       "      <td>female</td>\n",
       "      <td>26.0</td>\n",
       "      <td>0</td>\n",
       "      <td>0</td>\n",
       "      <td>STON/O2. 3101282</td>\n",
       "      <td>7.9250</td>\n",
       "      <td>NaN</td>\n",
       "      <td>S</td>\n",
       "    </tr>\n",
       "    <tr>\n",
       "      <th>3</th>\n",
       "      <td>4</td>\n",
       "      <td>1</td>\n",
       "      <td>1</td>\n",
       "      <td>Futrelle, Mrs. Jacques Heath (Lily May Peel)</td>\n",
       "      <td>female</td>\n",
       "      <td>35.0</td>\n",
       "      <td>1</td>\n",
       "      <td>0</td>\n",
       "      <td>113803</td>\n",
       "      <td>53.1000</td>\n",
       "      <td>C123</td>\n",
       "      <td>S</td>\n",
       "    </tr>\n",
       "    <tr>\n",
       "      <th>4</th>\n",
       "      <td>5</td>\n",
       "      <td>0</td>\n",
       "      <td>3</td>\n",
       "      <td>Allen, Mr. William Henry</td>\n",
       "      <td>male</td>\n",
       "      <td>35.0</td>\n",
       "      <td>0</td>\n",
       "      <td>0</td>\n",
       "      <td>373450</td>\n",
       "      <td>8.0500</td>\n",
       "      <td>NaN</td>\n",
       "      <td>S</td>\n",
       "    </tr>\n",
       "  </tbody>\n",
       "</table>\n",
       "</div>"
      ],
      "text/plain": [
       "   PassengerId  Survived  Pclass  \\\n",
       "0            1         0       3   \n",
       "1            2         1       1   \n",
       "2            3         1       3   \n",
       "3            4         1       1   \n",
       "4            5         0       3   \n",
       "\n",
       "                                                Name     Sex   Age  SibSp  \\\n",
       "0                            Braund, Mr. Owen Harris    male  22.0      1   \n",
       "1  Cumings, Mrs. John Bradley (Florence Briggs Th...  female  38.0      1   \n",
       "2                             Heikkinen, Miss. Laina  female  26.0      0   \n",
       "3       Futrelle, Mrs. Jacques Heath (Lily May Peel)  female  35.0      1   \n",
       "4                           Allen, Mr. William Henry    male  35.0      0   \n",
       "\n",
       "   Parch            Ticket     Fare Cabin Embarked  \n",
       "0      0         A/5 21171   7.2500   NaN        S  \n",
       "1      0          PC 17599  71.2833   C85        C  \n",
       "2      0  STON/O2. 3101282   7.9250   NaN        S  \n",
       "3      0            113803  53.1000  C123        S  \n",
       "4      0            373450   8.0500   NaN        S  "
      ]
     },
     "metadata": {},
     "output_type": "display_data"
    }
   ],
   "source": [
    "# Import libraries necessary for this project\n",
    "import numpy as np\n",
    "import pandas as pd\n",
    "from IPython.display import display # Allows the use of display() for DataFrames\n",
    "\n",
    "# Import supplementary visualizations code visuals.py\n",
    "import visuals as vs\n",
    "\n",
    "# Pretty display for notebooks\n",
    "%matplotlib inline\n",
    "\n",
    "# Load the dataset\n",
    "in_file = 'titanic_data.csv'\n",
    "full_data = pd.read_csv(in_file)\n",
    "\n",
    "# Print the first few entries of the RMS Titanic data\n",
    "display(full_data.head())"
   ]
  },
  {
   "cell_type": "markdown",
   "metadata": {},
   "source": [
    "From a sample of the RMS Titanic data, we can see the various features present for each passenger on the ship:\n",
    "- **Survived**: Outcome of survival (0 = No; 1 = Yes)\n",
    "- **Pclass**: Socio-economic class (1 = Upper class; 2 = Middle class; 3 = Lower class)\n",
    "- **Name**: Name of passenger\n",
    "- **Sex**: Sex of the passenger\n",
    "- **Age**: Age of the passenger (Some entries contain `NaN`)\n",
    "- **SibSp**: Number of siblings and spouses of the passenger aboard\n",
    "- **Parch**: Number of parents and children of the passenger aboard\n",
    "- **Ticket**: Ticket number of the passenger\n",
    "- **Fare**: Fare paid by the passenger\n",
    "- **Cabin** Cabin number of the passenger (Some entries contain `NaN`)\n",
    "- **Embarked**: Port of embarkation of the passenger (C = Cherbourg; Q = Queenstown; S = Southampton)\n",
    "\n",
    "Since we're interested in the outcome of survival for each passenger or crew member, we can remove the **Survived** feature from this dataset and store it as its own separate variable `outcomes`. We will use these outcomes as our prediction targets.  \n",
    "Run the code cell below to remove **Survived** as a feature of the dataset and store it in `outcomes`."
   ]
  },
  {
   "cell_type": "code",
   "execution_count": 2,
   "metadata": {},
   "outputs": [
    {
     "data": {
      "text/html": [
       "<div>\n",
       "<style>\n",
       "    .dataframe thead tr:only-child th {\n",
       "        text-align: right;\n",
       "    }\n",
       "\n",
       "    .dataframe thead th {\n",
       "        text-align: left;\n",
       "    }\n",
       "\n",
       "    .dataframe tbody tr th {\n",
       "        vertical-align: top;\n",
       "    }\n",
       "</style>\n",
       "<table border=\"1\" class=\"dataframe\">\n",
       "  <thead>\n",
       "    <tr style=\"text-align: right;\">\n",
       "      <th></th>\n",
       "      <th>PassengerId</th>\n",
       "      <th>Pclass</th>\n",
       "      <th>Name</th>\n",
       "      <th>Sex</th>\n",
       "      <th>Age</th>\n",
       "      <th>SibSp</th>\n",
       "      <th>Parch</th>\n",
       "      <th>Ticket</th>\n",
       "      <th>Fare</th>\n",
       "      <th>Cabin</th>\n",
       "      <th>Embarked</th>\n",
       "    </tr>\n",
       "  </thead>\n",
       "  <tbody>\n",
       "    <tr>\n",
       "      <th>0</th>\n",
       "      <td>1</td>\n",
       "      <td>3</td>\n",
       "      <td>Braund, Mr. Owen Harris</td>\n",
       "      <td>male</td>\n",
       "      <td>22.0</td>\n",
       "      <td>1</td>\n",
       "      <td>0</td>\n",
       "      <td>A/5 21171</td>\n",
       "      <td>7.2500</td>\n",
       "      <td>NaN</td>\n",
       "      <td>S</td>\n",
       "    </tr>\n",
       "    <tr>\n",
       "      <th>1</th>\n",
       "      <td>2</td>\n",
       "      <td>1</td>\n",
       "      <td>Cumings, Mrs. John Bradley (Florence Briggs Th...</td>\n",
       "      <td>female</td>\n",
       "      <td>38.0</td>\n",
       "      <td>1</td>\n",
       "      <td>0</td>\n",
       "      <td>PC 17599</td>\n",
       "      <td>71.2833</td>\n",
       "      <td>C85</td>\n",
       "      <td>C</td>\n",
       "    </tr>\n",
       "    <tr>\n",
       "      <th>2</th>\n",
       "      <td>3</td>\n",
       "      <td>3</td>\n",
       "      <td>Heikkinen, Miss. Laina</td>\n",
       "      <td>female</td>\n",
       "      <td>26.0</td>\n",
       "      <td>0</td>\n",
       "      <td>0</td>\n",
       "      <td>STON/O2. 3101282</td>\n",
       "      <td>7.9250</td>\n",
       "      <td>NaN</td>\n",
       "      <td>S</td>\n",
       "    </tr>\n",
       "    <tr>\n",
       "      <th>3</th>\n",
       "      <td>4</td>\n",
       "      <td>1</td>\n",
       "      <td>Futrelle, Mrs. Jacques Heath (Lily May Peel)</td>\n",
       "      <td>female</td>\n",
       "      <td>35.0</td>\n",
       "      <td>1</td>\n",
       "      <td>0</td>\n",
       "      <td>113803</td>\n",
       "      <td>53.1000</td>\n",
       "      <td>C123</td>\n",
       "      <td>S</td>\n",
       "    </tr>\n",
       "    <tr>\n",
       "      <th>4</th>\n",
       "      <td>5</td>\n",
       "      <td>3</td>\n",
       "      <td>Allen, Mr. William Henry</td>\n",
       "      <td>male</td>\n",
       "      <td>35.0</td>\n",
       "      <td>0</td>\n",
       "      <td>0</td>\n",
       "      <td>373450</td>\n",
       "      <td>8.0500</td>\n",
       "      <td>NaN</td>\n",
       "      <td>S</td>\n",
       "    </tr>\n",
       "  </tbody>\n",
       "</table>\n",
       "</div>"
      ],
      "text/plain": [
       "   PassengerId  Pclass                                               Name  \\\n",
       "0            1       3                            Braund, Mr. Owen Harris   \n",
       "1            2       1  Cumings, Mrs. John Bradley (Florence Briggs Th...   \n",
       "2            3       3                             Heikkinen, Miss. Laina   \n",
       "3            4       1       Futrelle, Mrs. Jacques Heath (Lily May Peel)   \n",
       "4            5       3                           Allen, Mr. William Henry   \n",
       "\n",
       "      Sex   Age  SibSp  Parch            Ticket     Fare Cabin Embarked  \n",
       "0    male  22.0      1      0         A/5 21171   7.2500   NaN        S  \n",
       "1  female  38.0      1      0          PC 17599  71.2833   C85        C  \n",
       "2  female  26.0      0      0  STON/O2. 3101282   7.9250   NaN        S  \n",
       "3  female  35.0      1      0            113803  53.1000  C123        S  \n",
       "4    male  35.0      0      0            373450   8.0500   NaN        S  "
      ]
     },
     "metadata": {},
     "output_type": "display_data"
    }
   ],
   "source": [
    "# Store the 'Survived' feature in a new variable and remove it from the dataset\n",
    "outcomes = full_data['Survived']\n",
    "data = full_data.drop('Survived', axis = 1)\n",
    "\n",
    "# Show the new dataset with 'Survived' removed\n",
    "display(data.head())"
   ]
  },
  {
   "cell_type": "markdown",
   "metadata": {},
   "source": [
    "The very same sample of the RMS Titanic data now shows the **Survived** feature removed from the DataFrame. Note that `data` (the passenger data) and `outcomes` (the outcomes of survival) are now *paired*. That means for any passenger `data.loc[i]`, they have the survival outcome `outcomes[i]`.\n",
    "\n",
    "To measure the performance of our predictions, we need a metric to score our predictions against the true outcomes of survival. Since we are interested in how *accurate* our predictions are, we will calculate the proportion of passengers where our prediction of their survival is correct. Run the code cell below to create our `accuracy_score` function and test a prediction on the first five passengers.  \n",
    "\n",
    "**Think:** *Out of the first five passengers, if we predict that all of them survived, what would you expect the accuracy of our predictions to be?*"
   ]
  },
  {
   "cell_type": "code",
   "execution_count": 3,
   "metadata": {},
   "outputs": [
    {
     "name": "stdout",
     "output_type": "stream",
     "text": [
      "Predictions have an accuracy of 60.00%.\n"
     ]
    }
   ],
   "source": [
    "def accuracy_score(truth, pred):\n",
    "    \"\"\" Returns accuracy score for input truth and predictions. \"\"\"\n",
    "    \n",
    "    # Ensure that the number of predictions matches number of outcomes\n",
    "    if len(truth) == len(pred): \n",
    "        \n",
    "        # Calculate and return the accuracy as a percent\n",
    "        return \"Predictions have an accuracy of {:.2f}%.\".format((truth == pred).mean()*100)\n",
    "    \n",
    "    else:\n",
    "        return \"Number of predictions does not match number of outcomes!\"\n",
    "    \n",
    "# Test the 'accuracy_score' function\n",
    "predictions = pd.Series(np.ones(5, dtype = int))\n",
    "print accuracy_score(outcomes[:5], predictions)"
   ]
  },
  {
   "cell_type": "markdown",
   "metadata": {},
   "source": [
    "> **Tip:** If you save an iPython Notebook, the output from running code blocks will also be saved. However, the state of your workspace will be reset once a new session is started. Make sure that you run all of the code blocks from your previous session to reestablish variables and functions before picking up where you last left off.\n",
    "\n",
    "# Making Predictions\n",
    "\n",
    "If we were asked to make a prediction about any passenger aboard the RMS Titanic whom we knew nothing about, then the best prediction we could make would be that they did not survive. This is because we can assume that a majority of the passengers (more than 50%) did not survive the ship sinking.  \n",
    "The `predictions_0` function below will always predict that a passenger did not survive."
   ]
  },
  {
   "cell_type": "code",
   "execution_count": 5,
   "metadata": {
    "collapsed": true
   },
   "outputs": [],
   "source": [
    "def predictions_0(data):\n",
    "    \"\"\" Model with no features. Always predicts a passenger did not survive. \"\"\"\n",
    "\n",
    "    predictions = []\n",
    "    for _, passenger in data.iterrows():\n",
    "        \n",
    "        # Predict the survival of 'passenger'\n",
    "        predictions.append(0)\n",
    "    \n",
    "    # Return our predictions\n",
    "    return pd.Series(predictions)\n",
    "\n",
    "# Make the predictions\n",
    "predictions = predictions_0(data)"
   ]
  },
  {
   "cell_type": "markdown",
   "metadata": {},
   "source": [
    "### Question 1\n",
    "*Using the RMS Titanic data, how accurate would a prediction be that none of the passengers survived?*  \n",
    "**Hint:** Run the code cell below to see the accuracy of this prediction."
   ]
  },
  {
   "cell_type": "code",
   "execution_count": 6,
   "metadata": {},
   "outputs": [
    {
     "name": "stdout",
     "output_type": "stream",
     "text": [
      "Predictions have an accuracy of 61.62%.\n"
     ]
    }
   ],
   "source": [
    "print accuracy_score(outcomes, predictions)"
   ]
  },
  {
   "cell_type": "markdown",
   "metadata": {},
   "source": [
    "**Answer:** 61.62%"
   ]
  },
  {
   "cell_type": "markdown",
   "metadata": {},
   "source": [
    "***\n",
    "Let's take a look at whether the feature **Sex** has any indication of survival rates among passengers using the `survival_stats` function. This function is defined in the `visuals.py` Python script included with this project. The first two parameters passed to the function are the RMS Titanic data and passenger survival outcomes, respectively. The third parameter indicates which feature we want to plot survival statistics across.  \n",
    "Run the code cell below to plot the survival outcomes of passengers based on their sex."
   ]
  },
  {
   "cell_type": "code",
   "execution_count": 7,
   "metadata": {},
   "outputs": [
    {
     "data": {
      "image/png": "[encoded data removed]",
      "text/plain": [
       "<matplotlib.figure.Figure at 0x5f88048>"
      ]
     },
     "metadata": {},
     "output_type": "display_data"
    }
   ],
   "source": [
    "vs.survival_stats(data, outcomes, 'Sex')"
   ]
  },
  {
   "cell_type": "markdown",
   "metadata": {},
   "source": [
    "Examining the survival statistics, a large majority of males did not survive the ship sinking. However, a majority of females *did* survive the ship sinking. Let's build on our previous prediction: If a passenger was female, then we will predict that they survived. Otherwise, we will predict the passenger did not survive.  \n",
    "Fill in the missing code below so that the function will make this prediction.  \n",
    "**Hint:** You can access the values of each feature for a passenger like a dictionary. For example, `passenger['Sex']` is the sex of the passenger."
   ]
  },
  {
   "cell_type": "code",
   "execution_count": 40,
   "metadata": {},
   "outputs": [],
   "source": [
    "def predictions_1(data):\n",
    "    \"\"\" Model with one feature: \n",
    "            - Predict a passenger survived if they are female. \"\"\"\n",
    "    \n",
    "    predictions = []\n",
    "    for _,passenger in data.iterrows():\n",
    "        \n",
    "        # Remove the 'pass' statement below \n",
    "        # and write your prediction conditions here\n",
    "        if passenger['Sex']==\"male\":\n",
    "            predictions.append(0)\n",
    "        else:\n",
    "            predictions.append(1)    \n",
    "    \n",
    "    #print predictions.count(0)\n",
    "    # Return our predictions\n",
    "    return pd.Series(predictions)\n",
    "\n",
    "# Make the predictions\n",
    "predictions = predictions_1(data)"
   ]
  },
  {
   "cell_type": "markdown",
   "metadata": {},
   "source": [
    "### Question 2\n",
    "*How accurate would a prediction be that all female passengers survived and the remaining passengers did not survive?*  \n",
    "**Hint:** Run the code cell below to see the accuracy of this prediction."
   ]
  },
  {
   "cell_type": "code",
   "execution_count": 41,
   "metadata": {},
   "outputs": [
    {
     "name": "stdout",
     "output_type": "stream",
     "text": [
      "Predictions have an accuracy of 78.68%.\n"
     ]
    }
   ],
   "source": [
    "print accuracy_score(outcomes, predictions)"
   ]
  },
  {
   "cell_type": "markdown",
   "metadata": {},
   "source": [
    "**Answer**: 78.68%"
   ]
  },
  {
   "cell_type": "markdown",
   "metadata": {},
   "source": [
    "***\n",
    "Using just the **Sex** feature for each passenger, we are able to increase the accuracy of our predictions by a significant margin. Now, let's consider using an additional feature to see if we can further improve our predictions. For example, consider all of the male passengers aboard the RMS Titanic: Can we find a subset of those passengers that had a higher rate of survival? Let's start by looking at the **Age** of each male, by again using the `survival_stats` function. This time, we'll use a fourth parameter to filter out the data so that only passengers with the **Sex** 'male' will be included.  \n",
    "Run the code cell below to plot the survival outcomes of male passengers based on their age."
   ]
  },
  {
   "cell_type": "code",
   "execution_count": 14,
   "metadata": {},
   "outputs": [
    {
     "data": {
      "image/png": "[encoded data removed]",
      "text/plain": [
       "<matplotlib.figure.Figure at 0xa890c18>"
      ]
     },
     "metadata": {},
     "output_type": "display_data"
    }
   ],
   "source": [
    "vs.survival_stats(data, outcomes, 'Age', [\"Sex == 'male'\"])"
   ]
  },
  {
   "cell_type": "markdown",
   "metadata": {
    "collapsed": true
   },
   "source": [
    "Examining the survival statistics, the majority of males younger than 10 survived the ship sinking, whereas most males age 10 or older *did not survive* the ship sinking. Let's continue to build on our previous prediction: If a passenger was female, then we will predict they survive. If a passenger was male and younger than 10, then we will also predict they survive. Otherwise, we will predict they do not survive.  \n",
    "Fill in the missing code below so that the function will make this prediction.  \n",
    "**Hint:** You can start your implementation of this function using the prediction code you wrote earlier from `predictions_1`."
   ]
  },
  {
   "cell_type": "code",
   "execution_count": 96,
   "metadata": {},
   "outputs": [],
   "source": [
    "def predictions_2(data):\n",
    "    \"\"\" Model with two features: \n",
    "            - Predict a passenger survived if they are female.\n",
    "            - Predict a passenger survived if they are male and younger than 10. \"\"\"\n",
    "    \n",
    "    predictions = []\n",
    "    for _, passenger in data.iterrows():\n",
    "        \n",
    "        # Remove the 'pass' statement below \n",
    "        # and write your prediction conditions here\n",
    "        if (passenger['Sex']==\"male\" and passenger['Age']<10) or passenger['Sex']==\"female\":\n",
    "            predictions.append(1)\n",
    "        else:\n",
    "            predictions.append(0)\n",
    "            #For debugging optional - print passenger['Sex'] , passenger['Age']\n",
    "    \n",
    "    # Return our predictions\n",
    "    return pd.Series(predictions)\n",
    "\n",
    "# Make the predictions\n",
    "predictions = predictions_2(data)"
   ]
  },
  {
   "cell_type": "markdown",
   "metadata": {},
   "source": [
    "### Question 3\n",
    "*How accurate would a prediction be that all female passengers and all male passengers younger than 10 survived?*  \n",
    "**Hint:** Run the code cell below to see the accuracy of this prediction."
   ]
  },
  {
   "cell_type": "code",
   "execution_count": 97,
   "metadata": {},
   "outputs": [
    {
     "name": "stdout",
     "output_type": "stream",
     "text": [
      "Predictions have an accuracy of 79.35%.\n"
     ]
    }
   ],
   "source": [
    "print accuracy_score(outcomes, predictions)"
   ]
  },
  {
   "cell_type": "markdown",
   "metadata": {},
   "source": [
    "**Answer**: 79.35%"
   ]
  },
  {
   "cell_type": "markdown",
   "metadata": {
    "collapsed": true
   },
   "source": [
    "***\n",
    "Adding the feature **Age** as a condition in conjunction with **Sex** improves the accuracy by a small margin more than with simply using the feature **Sex** alone. Now it's your turn: Find a series of features and conditions to split the data on to obtain an outcome prediction accuracy of at least 80%. This may require multiple features and multiple levels of conditional statements to succeed. You can use the same feature multiple times with different conditions.   \n",
    "**Pclass**, **Sex**, **Age**, **SibSp**, and **Parch** are some suggested features to try.\n",
    "\n",
    "Use the `survival_stats` function below to to examine various survival statistics.  \n",
    "**Hint:** To use mulitple filter conditions, put each condition in the list passed as the last argument. Example: `[\"Sex == 'male'\", \"Age < 18\"]`"
   ]
  },
  {
   "cell_type": "raw",
   "metadata": {},
   "source": []
  },
  {
   "cell_type": "code",
   "execution_count": 189,
   "metadata": {},
   "outputs": [
    {
     "data": {
      "image/png": "[encoded data removed]",
      "text/plain": [
       "<matplotlib.figure.Figure at 0xb943ef0>"
      ]
     },
     "metadata": {},
     "output_type": "display_data"
    },
    {
     "data": {
      "image/png": "[encoded data removed]",
      "text/plain": [
       "<matplotlib.figure.Figure at 0xb943198>"
      ]
     },
     "metadata": {},
     "output_type": "display_data"
    },
    {
     "data": {
      "image/png": "[encoded data removed]",
      "text/plain": [
       "<matplotlib.figure.Figure at 0xb943f60>"
      ]
     },
     "metadata": {},
     "output_type": "display_data"
    }
   ],
   "source": [
    "#Intermediate conditions tested\n",
    "\n",
    "#Female 'survive' branch -> Look for 'not survive' bias\n",
    "#vs.survival_stats(data, outcomes, 'SibSp', [\"Sex == 'female'\"]) # SibSp promising 'not survive' when > 2\n",
    "#vs.survival_stats(data, outcomes, 'Pclass', [\"Sex == 'female'\"]) #No additional 'not survive' bias with Pclass\n",
    "#vs.survival_stats(data, outcomes, 'Parch', [\"Sex == 'female'\"]) #Parch>3 promises 'did not survive'\n",
    "#vs.survival_stats(data, outcomes, 'Age', [\"Sex == 'female'\"]) #Age has no 'not survive' bias\n",
    "\n",
    "#Select SibSp out of SibSp and Parch since more 'not survive' cases seems predictable with SibSp \n",
    "\n",
    "#Female , SibSp <=2 survive branch\n",
    "#Now find 'not survive' skew in SibSp<=2 survive branch\n",
    "#vs.survival_stats(data, outcomes, 'Pclass', [\"Sex == 'female'\", \"SibSp <= 2\"])#**Pclass>2 has no 'not survive' bias\n",
    "vs.survival_stats(data, outcomes, 'Parch', [\"Sex == 'female'\", \"SibSp <= 2\"])#Parch>3 has 'not survive' bias\n",
    "#vs.survival_stats(data, outcomes, 'Age', [\"Sex == 'female'\", \"SibSp <= 2\"])#Age has no 'not survive' bias\n",
    "\n",
    "#Select Parch <=3 as survive bias prediction (consequence of Parch>3 having 'not survive' bias)\n",
    "#Female , SibSp<=2 , Parch <=3 survive branch -> try to find skewed 'not survive'\n",
    "\n",
    "#vs.survival_stats(data, outcomes, 'Pclass', [\"Sex == 'female'\",\"Parch <= 3\", \"SibSp <= 2\"])#No Pclass benefit\n",
    "#vs.survival_stats(data, outcomes, 'Age', [\"Sex == 'female'\",\"Parch <= 3\", \"SibSp <= 2\"])# No Age 'not survive' skew\n",
    "\n",
    "\n",
    "#Female , SibSp >2 'not survive' branch\n",
    "#Select SibSp and test Pclass, Parch for 'survive' bias\n",
    "vs.survival_stats(data, outcomes, 'Pclass', [\"Sex == 'female'\",\"SibSp > 2\"])# **Pclass <=2 has 'survive' bias for 3 \n",
    "#vs.survival_stats(data, outcomes, 'Parch', [\"Sex == 'female'\",\"SibSp > 2\"])# no 'survive' bias with Parch\n",
    "#Select Pclass to predict survive (i.e. Female, SibSp>2 , Pclass<=2)\n",
    "\n",
    "#Male Age <=10 branch\n",
    "#vs.survival_stats(data, outcomes, 'Pclass', [\"Sex == 'male'\",\"Age <= 10\"]) #Pclass promises #11 perfect 22 further\n",
    "#vs.survival_stats(data, outcomes, 'Parch', [\"Sex == 'male'\",\"Age <= 10\"]) # Parch no prediction capability\n",
    "vs.survival_stats(data, outcomes, 'SibSp', [\"Sex == 'male'\",\"Age <= 10\"]) # SibSp > 2 has 'not survive' bias\n",
    "\n",
    "#Select SibSp <=2 'survive'\n",
    "#Male Age <=10 SibSp<=2 survive branch -> look for 'not survive' bias\n",
    "#vs.survival_stats(data, outcomes, 'Parch', [\"Sex == 'male'\",\"Age <= 10\", \"SibSp <= 2\"]) #Parch no benefit over SibSp\n",
    "#vs.survival_stats(data, outcomes, 'Pclass', [\"Sex == 'male'\",\"Age <= 10\", \"SibSp <= 2\"]) #Pclass no benefit over SibSp\n",
    "\n",
    "#Male Age <=10 SibSp>2 'not survive' branch -> look for 'survive' bias\n",
    "#vs.survival_stats(data, outcomes, 'Pclass', [\"Sex == 'male'\",\"Age <= 10\", \"SibSp > 2\"]) #Pclass no survive bias\n",
    "#vs.survival_stats(data, outcomes, 'Parch', [\"Sex == 'male'\",\"Age <= 10\", \"SibSp > 2\"]) #Parch no survive bias\n",
    "\n",
    "#Male Age >10 'not survive' branch -> Look for 'survive' bias\n",
    "#vs.survival_stats(data, outcomes, 'Pclass', [\"Sex == 'male'\",\"Age > 10\"]) #no 'survive' skew\n",
    "#vs.survival_stats(data, outcomes, 'Parch', [\"Sex == 'male'\",\"Age > 10\"]) #no 'survive' skew\n",
    "#vs.survival_stats(data, outcomes, 'SibSp', [\"Sex == 'male'\",\"Age > 10\"]) #no 'survive' skew\n",
    "#vs.survival_stats(data, outcomes, 'Pclass', [\"Sex == 'male'\",\"Age > 10\", \"SibSp == 0\"]) #no 'survive' skew\n",
    "#vs.survival_stats(data, outcomes, 'Parch', [\"Sex == 'male'\",\"Age > 10\", \"SibSp == 0\"]) #no 'survive' skew\n"
   ]
  },
  {
   "cell_type": "markdown",
   "metadata": {},
   "source": [
    "After exploring the survival statistics visualization, fill in the missing code below so that the function will make your prediction.  \n",
    "Make sure to keep track of the various features and conditions you tried before arriving at your final prediction model.  \n",
    "**Hint:** You can start your implementation of this function using the prediction code you wrote earlier from `predictions_2`."
   ]
  },
  {
   "cell_type": "code",
   "execution_count": 190,
   "metadata": {},
   "outputs": [],
   "source": [
    "def predictions_3(data):\n",
    "    \"\"\" Model with multiple features. Makes a prediction with an accuracy of at least 80%. \"\"\"\n",
    "    \n",
    "    predictions = []\n",
    "    for _, passenger in data.iterrows():\n",
    "        \n",
    "        # Documentation of the approach\n",
    "        # The approach taken was to discover the conditions of multiple variables that would predict 'survive' \n",
    "        # at the leaves of the decision tree. Those conditions were then tested in the code to predict 'survive' and any\n",
    "        # case not matching the condition was automatically predicted 'not survived'\n",
    "        \n",
    "        # Procedure used to discover nwe variables and their conditions for refinement of prediction:\n",
    "        # A combination of tests for a set of variables is referred to as a branch here. The number of variables\n",
    "        # tested increase as we go down the tree and the number of branches increase. Every test of variables\n",
    "        # splits the prediction into 'survive' an 'not survive' cases or branches.\n",
    "        # 1. At every 'survive' branch, additional variables were tested one at a time to visually inspect if they could\n",
    "        #    separate out 'not survived' skew and also which variable provided the skew on the largest amount of data.\n",
    "        # 2. If a new variable was selected in 1, split the tree node into two branches ('survive' and 'not survive') \n",
    "        #    using the variable. This will make the 'survive' prediction more refined and hence more accurate.\n",
    "        # 3. At every 'not survive' branch, additional variables were tested one at a time to visually inspect if they could\n",
    "        #    separate out 'survive' skew and also which variable provided the skew on the largest amount of data.\n",
    "        # 4. If a new variable was selected in 3, split the tree node into two branches ('survive' and 'not survive') \n",
    "        #    using the variable. This will make the 'not survive' conditoin more refined an hence more accurate.\n",
    "        # 5. If new branches were created due to the steps 1-4, then repeat the procedure from step 1 for each new branch\n",
    "        \n",
    "        \n",
    "        \n",
    "        # Features explored\n",
    "        # Additional features explored were age, PClass, SibSp and Parch. It was noted that there were \n",
    "        # invalid values of age in the data but no attempt was made to fix them.\n",
    "        \n",
    "        \n",
    "        #Intermediate Steps Taken\n",
    "        # The approach mentioned above was followed stepwise resulting in the following intermediate steps\n",
    "        #Intermediate conditions tested\n",
    "\n",
    "        #Female 'survive' branch -> Look for 'not survive' bias\n",
    "        #vs.survival_stats(data, outcomes, 'SibSp', [\"Sex == 'female'\"]) # SibSp promising 'not survive' when > 2\n",
    "        #vs.survival_stats(data, outcomes, 'Pclass', [\"Sex == 'female'\"]) #No additional 'not survive' bias with Pclass\n",
    "        #vs.survival_stats(data, outcomes, 'Parch', [\"Sex == 'female'\"]) #Parch>3 promises 'did not survive'\n",
    "        #vs.survival_stats(data, outcomes, 'Age', [\"Sex == 'female'\"]) #Age has no 'not survive' bias\n",
    "\n",
    "        #Select SibSp out of SibSp and Parch since more 'not survive' cases seems predictable with SibSp \n",
    "\n",
    "        #Female , SibSp <=2 survive branch\n",
    "        #Now find 'not survive' skew in SibSp<=2 survive branch\n",
    "        #vs.survival_stats(data, outcomes, 'Pclass', [\"Sex == 'female'\", \"SibSp <= 2\"])#**Pclass>2 has no 'not survive' bias\n",
    "        #vs.survival_stats(data, outcomes, 'Parch', [\"Sex == 'female'\", \"SibSp <= 2\"])#Parch>3 has 'not survive' bias\n",
    "        #vs.survival_stats(data, outcomes, 'Age', [\"Sex == 'female'\", \"SibSp <= 2\"])#Age has no 'not survive' bias\n",
    "\n",
    "        #Select Parch <=3 as survive bias prediction (consequence of Parch>3 having 'not survive' bias)\n",
    "        #Female , SibSp<=2 , Parch <=3 survive branch -> try to find skewed 'not survive'\n",
    "\n",
    "        #vs.survival_stats(data, outcomes, 'Pclass', [\"Sex == 'female'\",\"Parch <= 3\", \"SibSp <= 2\"])#No Pclass benefit\n",
    "        #vs.survival_stats(data, outcomes, 'Age', [\"Sex == 'female'\",\"Parch <= 3\", \"SibSp <= 2\"])# No Age 'not survive' skew\n",
    "\n",
    "\n",
    "        #Female , SibSp >2 'not survive' branch\n",
    "        #Select SibSp and test Pclass, Parch for 'survive' bias\n",
    "        #vs.survival_stats(data, outcomes, 'Pclass', [\"Sex == 'female'\",\"SibSp > 2\"])# **Pclass <=2 has 'survive' bias for 3 \n",
    "        #vs.survival_stats(data, outcomes, 'Parch', [\"Sex == 'female'\",\"SibSp > 2\"])# no 'survive' bias with Parch\n",
    "        #Select Pclass to predict survive (i.e. Female, SibSp>2 , Pclass<=2)\n",
    "\n",
    "        #Male Age <=10 branch\n",
    "        #vs.survival_stats(data, outcomes, 'Pclass', [\"Sex == 'male'\",\"Age <= 10\"]) #Pclass promises #11 perfect 22 further\n",
    "        #vs.survival_stats(data, outcomes, 'Parch', [\"Sex == 'male'\",\"Age <= 10\"]) # Parch no prediction capability\n",
    "        #vs.survival_stats(data, outcomes, 'SibSp', [\"Sex == 'male'\",\"Age <= 10\"]) # SibSp > 2 has 'not survive' bias\n",
    "\n",
    "        #Select SibSp <=2 'survive'\n",
    "        #Male Age <=10 SibSp<=2 survive branch -> look for 'not survive' bias\n",
    "        #vs.survival_stats(data, outcomes, 'Parch', [\"Sex == 'male'\",\"Age <= 10\", \"SibSp <= 2\"]) #Parch no benefit over SibSp\n",
    "        #vs.survival_stats(data, outcomes, 'Pclass', [\"Sex == 'male'\",\"Age <= 10\", \"SibSp <= 2\"]) #Pclass no benefit over SibSp\n",
    "\n",
    "        #Male Age <=10 SibSp>2 'not survive' branch -> look for 'survive' bias\n",
    "        #vs.survival_stats(data, outcomes, 'Pclass', [\"Sex == 'male'\",\"Age <= 10\", \"SibSp > 2\"]) #Pclass no survive bias\n",
    "        #vs.survival_stats(data, outcomes, 'Parch', [\"Sex == 'male'\",\"Age <= 10\", \"SibSp > 2\"]) #Parch no survive bias\n",
    "\n",
    "        #Male Age >10 'not survive' branch -> Look for 'survive' bias\n",
    "        #vs.survival_stats(data, outcomes, 'Pclass', [\"Sex == 'male'\",\"Age > 10\"]) #no 'survive' skew\n",
    "        #vs.survival_stats(data, outcomes, 'Parch', [\"Sex == 'male'\",\"Age > 10\"]) #no 'survive' skew\n",
    "        #vs.survival_stats(data, outcomes, 'SibSp', [\"Sex == 'male'\",\"Age > 10\"]) #no 'survive' skew\n",
    "        #vs.survival_stats(data, outcomes, 'Pclass', [\"Sex == 'male'\",\"Age > 10\", \"SibSp == 0\"]) #no 'survive' skew\n",
    "        #vs.survival_stats(data, outcomes, 'Parch', [\"Sex == 'male'\",\"Age > 10\", \"SibSp == 0\"]) #no 'survive' skew\n",
    "\n",
    "        \n",
    "        # The resulting conditions from the 'survive' prediction branches from above is written in the form \n",
    "        # of code as below\n",
    "        if (passenger['Sex']==\"male\" and passenger['Age']<10 and passenger['SibSp']<=2) or \\\n",
    "        (passenger['Sex']==\"female\" and passenger['Parch']<=3 and passenger['SibSp'] <=2) or \\\n",
    "        (passenger['Sex']==\"female\" and passenger['Pclass']<=2 and passenger['SibSp'] >2):\n",
    "            predictions.append(1)\n",
    "        else:\n",
    "            predictions.append(0)\n",
    "    \n",
    "    # Return our predictions\n",
    "    return pd.Series(predictions)\n",
    "\n",
    "# Make the predictions\n",
    "predictions = predictions_3(data)"
   ]
  },
  {
   "cell_type": "markdown",
   "metadata": {},
   "source": [
    "### Question 4\n",
    "*Describe the steps you took to implement the final prediction model so that it got an accuracy of at least 80%. What features did you look at? Were certain features more informative than others? Which conditions did you use to split the survival outcomes in the data? How accurate are your predictions?*  \n",
    "**Hint:** Run the code cell below to see the accuracy of your predictions."
   ]
  },
  {
   "cell_type": "code",
   "execution_count": 191,
   "metadata": {},
   "outputs": [
    {
     "name": "stdout",
     "output_type": "stream",
     "text": [
      "Predictions have an accuracy of 82.60%.\n"
     ]
    }
   ],
   "source": [
    "print accuracy_score(outcomes, predictions)"
   ]
  },
  {
   "cell_type": "markdown",
   "metadata": {},
   "source": [
    "#### **Answer**: 82.60%"
   ]
  },
  {
   "cell_type": "markdown",
   "metadata": {},
   "source": [
    "# Conclusion\n",
    "\n",
    "After several iterations of exploring and conditioning on the data, you have built a useful algorithm for predicting the survival of each passenger aboard the RMS Titanic. The technique applied in this project is a manual implementation of a simple machine learning model, the *decision tree*. A decision tree splits a set of data into smaller and smaller groups (called *nodes*), by one feature at a time. Each time a subset of the data is split, our predictions become more accurate if each of the resulting subgroups are more homogeneous (contain similar labels) than before. The advantage of having a computer do things for us is that it will be more exhaustive and more precise than our manual exploration above. [This link](http://www.r2d3.us/visual-intro-to-machine-learning-part-1/) provides another introduction into machine learning using a decision tree.\n",
    "\n",
    "A decision tree is just one of many models that come from *supervised learning*. In supervised learning, we attempt to use features of the data to predict or model things with objective outcome labels. That is to say, each of our data points has a known outcome value, such as a categorical, discrete label like `'Survived'`, or a numerical, continuous value like predicting the price of a house.\n",
    "\n",
    "### Question 5\n",
    "*Think of a real-world scenario where supervised learning could be applied. What would be the outcome variable that you are trying to predict? Name two features about the data used in this scenario that might be helpful for making the predictions.*  "
   ]
  },
  {
   "cell_type": "markdown",
   "metadata": {
    "collapsed": true
   },
   "source": [
    "**Answer**: For providing a peer to peer loan, a creditor needs to assess whether the borrower will re-pay the loan amount or defualt on the loan. This way the creditor can classify loan requests and decide whether to fund them or the appropriate risk premium. \n",
    "            The outcome would be categorial such as 'DEFAULT' or 'FULL RE-PAY'. There is also a possibility of adding additional discrete categories based on the level of risk predicted. \n",
    "            The learning samples could be the set of historical loans. with their loan application data and re-payment outcomes Helpful features from the data could be Outstanding debt at the time of application, Income of the borrower, Loan Size to Income ratio, Past delinquency count, Time from the last derogatory comment, even FICO score etc."
   ]
  },
  {
   "cell_type": "markdown",
   "metadata": {},
   "source": [
    "> **Note**: Once you have completed all of the code implementations and successfully answered each question above, you may finalize your work by exporting the iPython Notebook as an HTML document. You can do this by using the menu above and navigating to  \n",
    "**File -> Download as -> HTML (.html)**. Include the finished document along with this notebook as your submission."
   ]
  }
 ],
 "metadata": {
  "kernelspec": {
   "display_name": "Python 2",
   "language": "python",
   "name": "python2"
  },
  "language_info": {
   "codemirror_mode": {
    "name": "ipython",
    "version": 2
   },
   "file_extension": ".py",
   "mimetype": "text/x-python",
   "name": "python",
   "nbconvert_exporter": "python",
   "pygments_lexer": "ipython2",
   "version": "2.7.13"
  }
 },
 "nbformat": 4,
 "nbformat_minor": 1
}
